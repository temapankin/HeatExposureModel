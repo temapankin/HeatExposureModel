{
 "cells": [
  {
   "cell_type": "markdown",
   "id": "2538a8fb",
   "metadata": {},
   "source": [
    "# Postprocessing \n",
    "\n",
    "This notebook provides code to delete buffer created around SVF tiles and merge them back into one tile. "
   ]
  },
  {
   "cell_type": "code",
   "execution_count": 33,
   "id": "0d5d72a2",
   "metadata": {},
   "outputs": [
    {
     "name": "stdout",
     "output_type": "stream",
     "text": [
      "/Users/artyom/Documents/GitHub/HeatExposureModel\n"
     ]
    }
   ],
   "source": [
    "import rasterio\n",
    "from rasterio.merge import merge\n",
    "import glob\n",
    "import os\n",
    "\n",
    "os.chdir('/Users/artyom/Documents/GitHub/HeatExposureModel')\n",
    "print(os.getcwd())"
   ]
  },
  {
   "cell_type": "code",
   "execution_count": 36,
   "id": "0e147b1e",
   "metadata": {},
   "outputs": [
    {
     "data": {
      "text/plain": [
       "['data/Buildings_exp_SVF/svf_expanded_Buildings_0.TIF',\n",
       " 'data/Buildings_exp_SVF/svf_expanded_Buildings_1.TIF',\n",
       " 'data/Buildings_exp_SVF/svf_expanded_Buildings_2.TIF',\n",
       " 'data/Buildings_exp_SVF/svf_expanded_Buildings_3.TIF',\n",
       " 'data/Buildings_exp_SVF/svf_expanded_Buildings_4.TIF',\n",
       " 'data/Buildings_exp_SVF/svf_expanded_Buildings_5.TIF',\n",
       " 'data/Buildings_exp_SVF/svf_expanded_Buildings_6.TIF',\n",
       " 'data/Buildings_exp_SVF/svf_expanded_Buildings_7.TIF',\n",
       " 'data/Buildings_exp_SVF/svf_expanded_Buildings_8.TIF']"
      ]
     },
     "execution_count": 36,
     "metadata": {},
     "output_type": "execute_result"
    }
   ],
   "source": [
    "# Get list of all raster files\n",
    "# raster_files = glob.glob('data/Trees_exp_SVF/*.TIF')\n",
    "raster_files = glob.glob('data/Buildings_exp_SVF/*.TIF')\n",
    "raster_files.sort()\n",
    "raster_files"
   ]
  },
  {
   "cell_type": "code",
   "execution_count": 37,
   "id": "433c43d3",
   "metadata": {},
   "outputs": [],
   "source": [
    "# Function to remove buffer and prepare for merging\n",
    "def remove_buffer(src, buffer_size=40):\n",
    "    # Read the raster\n",
    "    with rasterio.open(src) as dataset:\n",
    "        # Get the data excluding buffer\n",
    "        data = dataset.read(1)[buffer_size:-buffer_size, buffer_size:-buffer_size]\n",
    "        \n",
    "        # Get the transform\n",
    "        transform = dataset.transform\n",
    "        # Adjust transform to account for removed buffer\n",
    "        new_transform = rasterio.Affine(transform.a, transform.b, \n",
    "                                      transform.c + (buffer_size * transform.a),\n",
    "                                      transform.d, transform.e, \n",
    "                                      transform.f + (buffer_size * transform.e))\n",
    "        \n",
    "        return data, new_transform, dataset.meta"
   ]
  },
  {
   "cell_type": "code",
   "execution_count": 39,
   "id": "d6f0776e",
   "metadata": {},
   "outputs": [],
   "source": [
    "# Process and merge files\n",
    "src_files_to_mosaic = []\n",
    "for raster in raster_files:\n",
    "    data, transform, meta = remove_buffer(raster)\n",
    "    \n",
    "    # Update metadata\n",
    "    meta.update({\n",
    "        \"height\": data.shape[0],\n",
    "        \"width\": data.shape[1],\n",
    "        \"transform\": transform\n",
    "    })\n",
    "    \n",
    "    # Create temporary file with buffered data\n",
    "    temp_path = f\"temp_{os.path.basename(raster)}\"\n",
    "    with rasterio.open(temp_path, 'w', **meta) as dst:\n",
    "        dst.write(data, 1)\n",
    "    \n",
    "    # Add to list for merging\n",
    "    src_files_to_mosaic.append(rasterio.open(temp_path))\n",
    "\n",
    "# Merge all files\n",
    "mosaic, out_trans = merge(src_files_to_mosaic)\n",
    "\n",
    "# Write final merged file\n",
    "out_meta = src_files_to_mosaic[0].meta.copy()\n",
    "out_meta.update({\n",
    "    \"height\": mosaic.shape[1],\n",
    "    \"width\": mosaic.shape[2],\n",
    "    \"transform\": out_trans\n",
    "})\n",
    "\n",
    "with rasterio.open(\"data/final/building_svf.tif\", \"w\", **out_meta) as dest:\n",
    "    dest.write(mosaic)\n",
    "\n",
    "# Clean up\n",
    "for src in src_files_to_mosaic:\n",
    "    src.close()\n",
    "    os.remove(src.name)"
   ]
  }
 ],
 "metadata": {
  "kernelspec": {
   "display_name": "default_env",
   "language": "python",
   "name": "python3"
  },
  "language_info": {
   "codemirror_mode": {
    "name": "ipython",
    "version": 3
   },
   "file_extension": ".py",
   "mimetype": "text/x-python",
   "name": "python",
   "nbconvert_exporter": "python",
   "pygments_lexer": "ipython3",
   "version": "3.12.3"
  }
 },
 "nbformat": 4,
 "nbformat_minor": 5
}
